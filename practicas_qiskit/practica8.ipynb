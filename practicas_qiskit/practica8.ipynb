{
 "cells": [
  {
   "cell_type": "code",
   "execution_count": 144,
   "metadata": {},
   "outputs": [],
   "source": [
    "from qiskit import QuantumCircuit,transpile\n",
    "from qiskit_aer import Aer"
   ]
  },
  {
   "cell_type": "code",
   "execution_count": 145,
   "metadata": {},
   "outputs": [],
   "source": [
    "simulator = Aer.get_backend(\"aer_simulator\")"
   ]
  },
  {
   "cell_type": "code",
   "execution_count": 146,
   "metadata": {},
   "outputs": [
    {
     "data": {
      "text/plain": [
       "<qiskit.circuit.instructionset.InstructionSet at 0x24b799c1d60>"
      ]
     },
     "execution_count": 146,
     "metadata": {},
     "output_type": "execute_result"
    }
   ],
   "source": [
    "randomBitCircuit = QuantumCircuit(1,1)\n",
    "randomBitCircuit.x(0)\n",
    "randomBitCircuit.barrier()\n",
    "randomBitCircuit.h(0)\n",
    "randomBitCircuit.barrier()\n",
    "randomBitCircuit.measure(0,0)"
   ]
  },
  {
   "cell_type": "code",
   "execution_count": 147,
   "metadata": {},
   "outputs": [],
   "source": [
    "randomBitCompiledCircuit = transpile(randomBitCircuit,simulator)\n",
    "job = simulator.run(randomBitCompiledCircuit,shots = 1)\n",
    "result = job.result()\n",
    "counts = result.get_counts(randomBitCompiledCircuit)"
   ]
  },
  {
   "cell_type": "code",
   "execution_count": 148,
   "metadata": {},
   "outputs": [
    {
     "name": "stdout",
     "output_type": "stream",
     "text": [
      "Bit to Send = 1\n"
     ]
    }
   ],
   "source": [
    "if (\"1\" in counts.keys()):\n",
    "    bitToSend = 1\n",
    "else:\n",
    "    bitToSend = 0\n",
    "print(\"Bit to Send = \"+str(bitToSend))"
   ]
  },
  {
   "cell_type": "code",
   "execution_count": 149,
   "metadata": {},
   "outputs": [
    {
     "data": {
      "text/plain": [
       "<qiskit.circuit.instructionset.InstructionSet at 0x24b796a0430>"
      ]
     },
     "execution_count": 149,
     "metadata": {},
     "output_type": "execute_result"
    }
   ],
   "source": [
    "randomSendBasisCircuit = QuantumCircuit(1,1)\n",
    "randomSendBasisCircuit.x(0)\n",
    "randomSendBasisCircuit.barrier()\n",
    "randomSendBasisCircuit.h(0)\n",
    "randomSendBasisCircuit.barrier()\n",
    "randomSendBasisCircuit.measure(0,0)"
   ]
  },
  {
   "cell_type": "code",
   "execution_count": 150,
   "metadata": {},
   "outputs": [],
   "source": [
    "randomSendBasisCompiledCircuit = transpile(randomSendBasisCircuit,simulator)\n",
    "job = simulator.run(randomSendBasisCompiledCircuit,shots = 1)\n",
    "result = job.result()\n",
    "counts = result.get_counts(randomSendBasisCompiledCircuit)"
   ]
  },
  {
   "cell_type": "code",
   "execution_count": 151,
   "metadata": {},
   "outputs": [
    {
     "name": "stdout",
     "output_type": "stream",
     "text": [
      "Send Basis  = 1\n"
     ]
    }
   ],
   "source": [
    "if (\"1\" in counts.keys()):\n",
    "    sendBasis = 1\n",
    "else:\n",
    "    sendBasis = 0\n",
    "print(\"Send Basis  = \"+str(sendBasis))"
   ]
  },
  {
   "cell_type": "code",
   "execution_count": 152,
   "metadata": {},
   "outputs": [
    {
     "data": {
      "text/plain": [
       "<qiskit.circuit.instructionset.InstructionSet at 0x24b79655e20>"
      ]
     },
     "execution_count": 152,
     "metadata": {},
     "output_type": "execute_result"
    }
   ],
   "source": [
    "randomRecvBasisCircuit = QuantumCircuit(1,1)\n",
    "randomRecvBasisCircuit.x(0)\n",
    "randomRecvBasisCircuit.barrier()\n",
    "randomRecvBasisCircuit.h(0)\n",
    "randomRecvBasisCircuit.barrier()\n",
    "randomRecvBasisCircuit.measure(0,0)"
   ]
  },
  {
   "cell_type": "code",
   "execution_count": 153,
   "metadata": {},
   "outputs": [],
   "source": [
    "randomRecvBasisCompiledCircuit = transpile(randomRecvBasisCircuit,simulator)\n",
    "job = simulator.run(randomRecvBasisCompiledCircuit,shots = 1)\n",
    "result = job.result()\n",
    "counts = result.get_counts(randomRecvBasisCompiledCircuit)"
   ]
  },
  {
   "cell_type": "code",
   "execution_count": 154,
   "metadata": {},
   "outputs": [
    {
     "name": "stdout",
     "output_type": "stream",
     "text": [
      "Received Basis = 1\n"
     ]
    }
   ],
   "source": [
    "if (\"1\" in counts.keys()):\n",
    "    recvBasis = 1\n",
    "else:\n",
    "    recvBasis = 0\n",
    "print(\"Received Basis = \"+str(bitToSend))"
   ]
  },
  {
   "cell_type": "code",
   "execution_count": 155,
   "metadata": {},
   "outputs": [
    {
     "data": {
      "text/plain": [
       "<qiskit.circuit.instructionset.InstructionSet at 0x24b79976610>"
      ]
     },
     "execution_count": 155,
     "metadata": {},
     "output_type": "execute_result"
    }
   ],
   "source": [
    "commCircuit = QuantumCircuit(1,1)\n",
    "if(bitToSend == 1):\n",
    "    commCircuit.x(0)\n",
    "if(sendBasis==1):\n",
    "    commCircuit.h(0)\n",
    "if(recvBasis==1):\n",
    "    commCircuit.h(0)\n",
    "commCircuit.measure(0,0)"
   ]
  },
  {
   "cell_type": "code",
   "execution_count": 156,
   "metadata": {},
   "outputs": [],
   "source": [
    "commCompiledCirtcuit = transpile(commCircuit,simulator)\n",
    "job = simulator.run(commCompiledCirtcuit,shots=1)\n",
    "result = job.result()\n",
    "counts = result.get_counts(commCompiledCirtcuit)"
   ]
  },
  {
   "cell_type": "code",
   "execution_count": 157,
   "metadata": {},
   "outputs": [
    {
     "name": "stdout",
     "output_type": "stream",
     "text": [
      "Send Bit = 1 Received Bit = 1\n"
     ]
    }
   ],
   "source": [
    "if(\"1\" in counts.keys()):\n",
    "    recvBit = 1\n",
    "else:\n",
    "    recvBit = 0\n",
    "if(sendBasis==recvBasis):\n",
    "    print(\"Send Bit = \"+str(bitToSend) + \" Received Bit = \"+str(recvBit))\n",
    "else:\n",
    "    print(\"Bit was lost becacuse basis didn't match\")"
   ]
  }
 ],
 "metadata": {
  "kernelspec": {
   "display_name": "Python 3",
   "language": "python",
   "name": "python3"
  },
  "language_info": {
   "codemirror_mode": {
    "name": "ipython",
    "version": 3
   },
   "file_extension": ".py",
   "mimetype": "text/x-python",
   "name": "python",
   "nbconvert_exporter": "python",
   "pygments_lexer": "ipython3",
   "version": "3.9.0"
  }
 },
 "nbformat": 4,
 "nbformat_minor": 2
}
