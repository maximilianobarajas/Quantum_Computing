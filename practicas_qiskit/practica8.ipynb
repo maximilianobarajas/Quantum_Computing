{
 "cells": [
  {
   "cell_type": "code",
   "execution_count": 1,
   "metadata": {},
   "outputs": [],
   "source": [
    "from qiskit import QuantumCircuit,transpile\n",
    "from qiskit_aer import Aer"
   ]
  },
  {
   "cell_type": "code",
   "execution_count": 2,
   "metadata": {},
   "outputs": [],
   "source": [
    "simulator = Aer.get_backend(\"aer_simulator\")"
   ]
  },
  {
   "cell_type": "code",
   "execution_count": 3,
   "metadata": {},
   "outputs": [
    {
     "data": {
      "text/plain": [
       "<qiskit.circuit.instructionset.InstructionSet at 0x19e7c4de730>"
      ]
     },
     "execution_count": 3,
     "metadata": {},
     "output_type": "execute_result"
    }
   ],
   "source": [
    "randomBitCircuit = QuantumCircuit(1,1)\n",
    "randomBitCircuit.x(0)\n",
    "randomBitCircuit.barrier()\n",
    "randomBitCircuit.h(0)\n",
    "randomBitCircuit.barrier()\n",
    "randomBitCircuit.measure(0,0)"
   ]
  },
  {
   "cell_type": "code",
   "execution_count": 4,
   "metadata": {},
   "outputs": [],
   "source": [
    "randomBitCompiledCircuit = transpile(randomBitCircuit,simulator)\n",
    "job = simulator.run(randomBitCompiledCircuit,shots = 1)\n",
    "result = job.result()\n",
    "counts = result.get_counts(randomBitCompiledCircuit)"
   ]
  },
  {
   "cell_type": "code",
   "execution_count": 5,
   "metadata": {},
   "outputs": [
    {
     "name": "stdout",
     "output_type": "stream",
     "text": [
      "Bit to Send = 1\n"
     ]
    }
   ],
   "source": [
    "if (\"1\" in counts.keys()):\n",
    "    bitToSend = 1\n",
    "else:\n",
    "    bitToSend = 0\n",
    "print(\"Bit to Send = \"+str(bitToSend))"
   ]
  },
  {
   "cell_type": "code",
   "execution_count": 6,
   "metadata": {},
   "outputs": [
    {
     "data": {
      "text/plain": [
       "<qiskit.circuit.instructionset.InstructionSet at 0x19e7c511eb0>"
      ]
     },
     "execution_count": 6,
     "metadata": {},
     "output_type": "execute_result"
    }
   ],
   "source": [
    "randomSendBasisCircuit = QuantumCircuit(1,1)\n",
    "randomSendBasisCircuit.x(0)\n",
    "randomSendBasisCircuit.barrier()\n",
    "randomSendBasisCircuit.h(0)\n",
    "randomSendBasisCircuit.barrier()\n",
    "randomSendBasisCircuit.measure(0,0)"
   ]
  },
  {
   "cell_type": "code",
   "execution_count": 7,
   "metadata": {},
   "outputs": [],
   "source": [
    "randomSendBasisCompiledCircuit = transpile(randomSendBasisCircuit,simulator)\n",
    "job = simulator.run(randomSendBasisCompiledCircuit,shots = 1)\n",
    "result = job.result()\n",
    "counts = result.get_counts(randomSendBasisCompiledCircuit)"
   ]
  },
  {
   "cell_type": "code",
   "execution_count": 8,
   "metadata": {},
   "outputs": [
    {
     "name": "stdout",
     "output_type": "stream",
     "text": [
      "Send Basis  = 1\n"
     ]
    }
   ],
   "source": [
    "if (\"1\" in counts.keys()):\n",
    "    sendBasis = 1\n",
    "else:\n",
    "    sendBasis = 0\n",
    "print(\"Send Basis  = \"+str(sendBasis))"
   ]
  },
  {
   "cell_type": "code",
   "execution_count": 9,
   "metadata": {},
   "outputs": [
    {
     "data": {
      "text/plain": [
       "<qiskit.circuit.instructionset.InstructionSet at 0x19e7c4a1400>"
      ]
     },
     "execution_count": 9,
     "metadata": {},
     "output_type": "execute_result"
    }
   ],
   "source": [
    "randomRecvBasisCircuit = QuantumCircuit(1,1)\n",
    "randomRecvBasisCircuit.x(0)\n",
    "randomRecvBasisCircuit.barrier()\n",
    "randomRecvBasisCircuit.h(0)\n",
    "randomRecvBasisCircuit.barrier()\n",
    "randomRecvBasisCircuit.measure(0,0)"
   ]
  },
  {
   "cell_type": "code",
   "execution_count": 10,
   "metadata": {},
   "outputs": [],
   "source": [
    "randomRecvBasisCompiledCircuit = transpile(randomRecvBasisCircuit,simulator)\n",
    "job = simulator.run(randomRecvBasisCompiledCircuit,shots = 1)\n",
    "result = job.result()\n",
    "counts = result.get_counts(randomRecvBasisCompiledCircuit)"
   ]
  },
  {
   "cell_type": "code",
   "execution_count": 11,
   "metadata": {},
   "outputs": [
    {
     "name": "stdout",
     "output_type": "stream",
     "text": [
      "Received Basis = 1\n"
     ]
    }
   ],
   "source": [
    "if (\"1\" in counts.keys()):\n",
    "    recvBasis = 1\n",
    "else:\n",
    "    recvBasis = 0\n",
    "print(\"Received Basis = \"+str(bitToSend))"
   ]
  },
  {
   "cell_type": "code",
   "execution_count": 12,
   "metadata": {},
   "outputs": [
    {
     "data": {
      "text/plain": [
       "<qiskit.circuit.instructionset.InstructionSet at 0x19e7c5bd970>"
      ]
     },
     "execution_count": 12,
     "metadata": {},
     "output_type": "execute_result"
    }
   ],
   "source": [
    "commCircuit = QuantumCircuit(1,1)\n",
    "if(bitToSend == 1):\n",
    "    commCircuit.x(0)\n",
    "if(sendBasis==1):\n",
    "    commCircuit.h(0)\n",
    "if(recvBasis==1):\n",
    "    commCircuit.h(0)\n",
    "commCircuit.measure(0,0)"
   ]
  },
  {
   "cell_type": "code",
   "execution_count": 13,
   "metadata": {},
   "outputs": [],
   "source": [
    "commCompiledCirtcuit = transpile(commCircuit,simulator)\n",
    "job = simulator.run(commCompiledCirtcuit,shots=1)\n",
    "result = job.result()\n",
    "counts = result.get_counts(commCompiledCirtcuit)"
   ]
  },
  {
   "cell_type": "code",
   "execution_count": 14,
   "metadata": {},
   "outputs": [
    {
     "name": "stdout",
     "output_type": "stream",
     "text": [
      "Bit was lost becacuse basis didn't match\n"
     ]
    }
   ],
   "source": [
    "if(\"1\" in counts.keys()):\n",
    "    recvBit = 1\n",
    "else:\n",
    "    recvBit = 0\n",
    "if(sendBasis==recvBasis):\n",
    "    print(\"Send Bit = \"+str(bitToSend) + \" Received Bit = \"+str(recvBit))\n",
    "else:\n",
    "    print(\"Bit was lost becacuse basis didn't match\")"
   ]
  }
 ],
 "metadata": {
  "kernelspec": {
   "display_name": "Python 3",
   "language": "python",
   "name": "python3"
  },
  "language_info": {
   "codemirror_mode": {
    "name": "ipython",
    "version": 3
   },
   "file_extension": ".py",
   "mimetype": "text/x-python",
   "name": "python",
   "nbconvert_exporter": "python",
   "pygments_lexer": "ipython3",
   "version": "3.9.0"
  }
 },
 "nbformat": 4,
 "nbformat_minor": 2
}
