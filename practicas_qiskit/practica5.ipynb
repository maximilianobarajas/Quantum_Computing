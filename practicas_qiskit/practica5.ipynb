{
 "cells": [
  {
   "cell_type": "code",
   "execution_count": 1,
   "id": "63cb8ccd-2163-4487-be9d-4ebc0292be43",
   "metadata": {},
   "outputs": [],
   "source": [
    "from qiskit import QuantumCircuit"
   ]
  },
  {
   "cell_type": "code",
   "execution_count": 2,
   "id": "6fa95f7d-bdf0-477f-81f5-73ab480b4644",
   "metadata": {},
   "outputs": [],
   "source": [
    "instrsource = QuantumCircuit(1)\n",
    "instrsource.reset(0)\n",
    "instrsource.x(0)\n",
    "setqubit = instrsource.to_instruction()"
   ]
  },
  {
   "cell_type": "code",
   "execution_count": 4,
   "id": "418c9018-ae09-4369-97cf-900417e28637",
   "metadata": {},
   "outputs": [
    {
     "name": "stderr",
     "output_type": "stream",
     "text": [
      "/home/max/.local/lib/python3.10/site-packages/qiskit/visualization/circuit/matplotlib.py:266: FutureWarning: The default matplotlib drawer scheme will be changed to \"iqp\" in a following release. To silence this warning, specify the current default explicitly as style=\"clifford\", or the new default as style=\"iqp\".\n",
      "  self._style, def_font_ratio = load_style(self._style)\n"
     ]
    },
    {
     "data": {
      "image/png": "[encoded data removed]",
      "text/plain": [
       "<Figure size 287.294x200.667 with 1 Axes>"
      ]
     },
     "execution_count": 4,
     "metadata": {},
     "output_type": "execute_result"
    }
   ],
   "source": [
    "custominstrqc = QuantumCircuit(2)\n",
    "custominstrqc.append(setqubit,[0])\n",
    "custominstrqc.append(setqubit,[1])\n",
    "custominstrqc.decompose().draw(output=\"mpl\")"
   ]
  }
 ],
 "metadata": {
  "kernelspec": {
   "display_name": "Python 3 (ipykernel)",
   "language": "python",
   "name": "python3"
  },
  "language_info": {
   "codemirror_mode": {
    "name": "ipython",
    "version": 3
   },
   "file_extension": ".py",
   "mimetype": "text/x-python",
   "name": "python",
   "nbconvert_exporter": "python",
   "pygments_lexer": "ipython3",
   "version": "3.10.12"
  }
 },
 "nbformat": 4,
 "nbformat_minor": 5
}
