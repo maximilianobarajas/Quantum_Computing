{
 "cells": [
  {
   "cell_type": "code",
   "execution_count": 13,
   "metadata": {},
   "outputs": [],
   "source": [
    "import random\n",
    "import numpy as np\n",
    "from sklearn import datasets\n",
    "from sklearn.pipeline import Pipeline\n",
    "from sklearn.preprocessing import StandardScaler\n",
    "from sklearn.svm import SVC"
   ]
  },
  {
   "cell_type": "code",
   "execution_count": 14,
   "metadata": {},
   "outputs": [],
   "source": [
    "canc = datasets.load_breast_cancer()\n",
    "X_original = canc[\"data\"]\n",
    "y_original = canc[\"target\"].astype(np.float64)\n",
    "number_of_examples = X_original.shape[0]\n",
    "number_of_features = X_original.shape[1]"
   ]
  },
  {
   "cell_type": "code",
   "execution_count": 15,
   "metadata": {},
   "outputs": [],
   "source": [
    "for i in range(0,5*number_of_examples):\n",
    "    rnd1 = random.randrange(0,number_of_examples)\n",
    "    rnd2 = random.randrange(0,number_of_examples)\n",
    "    temp1 = X_original[rnd1,:].copy()\n",
    "    temp2 = X_original[rnd2,:].copy()\n",
    "    tempy1 = y_original[rnd1].copy()\n",
    "    tempy2 = y_original[rnd2].copy()\n",
    "    X_original[rnd1,:] = temp2\n",
    "    X_original[rnd2,:] = temp1\n",
    "    y_original[rnd1] = tempy2\n",
    "    y_original[rnd2] = tempy1\n",
    "number_in_test_set = 50"
   ]
  },
  {
   "cell_type": "code",
   "execution_count": 16,
   "metadata": {},
   "outputs": [],
   "source": [
    "X_test=X_original[0:number_in_test_set,:].copy()\n",
    "y_test=y_original[0:number_in_test_set].copy()"
   ]
  },
  {
   "cell_type": "code",
   "execution_count": 17,
   "metadata": {},
   "outputs": [],
   "source": [
    "X_train=X_original[number_in_test_set :,:]\n",
    "y_train=y_original[number_in_test_set :]"
   ]
  },
  {
   "cell_type": "code",
   "execution_count": 18,
   "metadata": {},
   "outputs": [],
   "source": [
    "svm_clf=Pipeline((\n",
    "    (\"scaler\",StandardScaler()),\n",
    "    (\"svm\",SVC(kernel=\"poly\",degree=5,coef0=1,C=5))\n",
    "))"
   ]
  },
  {
   "cell_type": "code",
   "execution_count": 19,
   "metadata": {},
   "outputs": [
    {
     "name": "stdout",
     "output_type": "stream",
     "text": [
      "0 falsos positivos 1 falsos negativos 49 diagnosticos correctos\n"
     ]
    }
   ],
   "source": [
    "svm_clf.fit(X_train,y_train)\n",
    "false_negative=0\n",
    "false_positive=0\n",
    "for i in range(0, number_in_test_set):\n",
    "    ans=svm_clf.predict([X_test[i,:]])\n",
    "    error=\"\"\n",
    "    if y_test[i] == 1 and ans[0] ==0:\n",
    "        false_negative+=1\n",
    "    if y_test[i] ==0 and ans[0] ==1:\n",
    "        false_positive+=1\n",
    "print(str(false_positive)+\" falsos positivos \" + str(false_negative) + \" falsos negativos \"+ str(number_in_test_set-false_negative-false_positive) + \" diagnosticos correctos\")"
   ]
  }
 ],
 "metadata": {
  "kernelspec": {
   "display_name": "Python 3",
   "language": "python",
   "name": "python3"
  },
  "language_info": {
   "codemirror_mode": {
    "name": "ipython",
    "version": 3
   },
   "file_extension": ".py",
   "mimetype": "text/x-python",
   "name": "python",
   "nbconvert_exporter": "python",
   "pygments_lexer": "ipython3",
   "version": "3.10.11"
  }
 },
 "nbformat": 4,
 "nbformat_minor": 2
}
