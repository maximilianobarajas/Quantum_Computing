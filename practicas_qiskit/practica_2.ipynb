{
 "cells": [
  {
   "cell_type": "markdown",
   "id": "1869b187-086b-4d19-abf6-29e58da119a1",
   "metadata": {},
   "source": [
    "### Introducción a Qiskit Práctica II\n",
    "En esta práctica nos enfocaremmos en crear circuitos de manera dinámica con puertas diseñadas por nosotros."
   ]
  },
  {
   "cell_type": "code",
   "execution_count": 2,
   "id": "1967be74-158f-4e37-9414-9a1524f98b2f",
   "metadata": {},
   "outputs": [],
   "source": [
    "from qiskit import QuantumCircuit\n",
    "from qiskit.circuit.library import CXGate"
   ]
  },
  {
   "cell_type": "code",
   "execution_count": 3,
   "id": "1881d23a-92fc-4f99-9424-4567a9285b7f",
   "metadata": {},
   "outputs": [],
   "source": [
    "qc=QuantumCircuit(3)"
   ]
  },
  {
   "cell_type": "code",
   "execution_count": 4,
   "id": "a48e2b9d-15b7-406d-ab14-673a56c0dbf3",
   "metadata": {},
   "outputs": [],
   "source": [
    "#Creamos una puerta CNOT\n",
    "cxg=CXGate()"
   ]
  },
  {
   "cell_type": "code",
   "execution_count": 6,
   "id": "530e409d-34f2-4832-bd2b-7f3a1fde263c",
   "metadata": {},
   "outputs": [
    {
     "data": {
      "text/plain": [
       "<qiskit.circuit.instructionset.InstructionSet at 0x7f592200cac0>"
      ]
     },
     "execution_count": 6,
     "metadata": {},
     "output_type": "execute_result"
    }
   ],
   "source": [
    "#Agregamos la puerta CNOT al circuito:\n",
    "qc.append(cxg,[0,1])\n",
    "qc.append(cxg,[0,1])"
   ]
  },
  {
   "cell_type": "code",
   "execution_count": 11,
   "id": "c7dd7423-4aea-4ff1-9f2f-8f404b512a2a",
   "metadata": {},
   "outputs": [
    {
     "data": {
      "image/png": "[encoded data removed]",
      "text/plain": [
       "<Figure size 287.496x284.278 with 1 Axes>"
      ]
     },
     "execution_count": 11,
     "metadata": {},
     "output_type": "execute_result"
    }
   ],
   "source": [
    "#Mostramos el circuito\n",
    "qc.draw(output=\"mpl\",style=\"iqp\")"
   ]
  }
 ],
 "metadata": {
  "kernelspec": {
   "display_name": "Python 3 (ipykernel)",
   "language": "python",
   "name": "python3"
  },
  "language_info": {
   "codemirror_mode": {
    "name": "ipython",
    "version": 3
   },
   "file_extension": ".py",
   "mimetype": "text/x-python",
   "name": "python",
   "nbconvert_exporter": "python",
   "pygments_lexer": "ipython3",
   "version": "3.10.12"
  }
 },
 "nbformat": 4,
 "nbformat_minor": 5
}
